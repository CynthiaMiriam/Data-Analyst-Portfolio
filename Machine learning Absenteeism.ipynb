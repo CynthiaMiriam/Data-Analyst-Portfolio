{
 "cells": [
  {
   "cell_type": "markdown",
   "id": "a2e892bf",
   "metadata": {},
   "source": [
    "## Creating a logistic regresssion to predict absenteeism"
   ]
  },
  {
   "cell_type": "code",
   "execution_count": 58,
   "id": "80e9ed33",
   "metadata": {},
   "outputs": [],
   "source": [
    "import pandas as pd\n",
    "import numpy as np\n",
    "import matplotlib.pyplot as plt\n",
    "from sklearn.metrics import confusion_matrix, accuracy_score, classification_report\n",
    "from sklearn.svm import LinearSVC, SVC\n",
    "from sklearn.ensemble import RandomForestClassifier\n",
    "from sklearn.datasets import make_classification\n",
    "from sklearn.decomposition import PCA\n",
    "from matplotlib.colors import ListedColormap"
   ]
  },
  {
   "cell_type": "code",
   "execution_count": 2,
   "id": "bc0e56a5",
   "metadata": {},
   "outputs": [],
   "source": [
    "data_preprocessed = pd.read_csv('preprocessed-file.csv')"
   ]
  },
  {
   "cell_type": "code",
   "execution_count": 3,
   "id": "de3987eb",
   "metadata": {},
   "outputs": [
    {
     "data": {
      "text/html": [
       "<div>\n",
       "<style scoped>\n",
       "    .dataframe tbody tr th:only-of-type {\n",
       "        vertical-align: middle;\n",
       "    }\n",
       "\n",
       "    .dataframe tbody tr th {\n",
       "        vertical-align: top;\n",
       "    }\n",
       "\n",
       "    .dataframe thead th {\n",
       "        text-align: right;\n",
       "    }\n",
       "</style>\n",
       "<table border=\"1\" class=\"dataframe\">\n",
       "  <thead>\n",
       "    <tr style=\"text-align: right;\">\n",
       "      <th></th>\n",
       "      <th>Reason_type_1</th>\n",
       "      <th>Reason_type_2</th>\n",
       "      <th>Reason_type_3</th>\n",
       "      <th>Reason_type_4</th>\n",
       "      <th>Month Value</th>\n",
       "      <th>Day of the week</th>\n",
       "      <th>Transportation Expense</th>\n",
       "      <th>Distance to Work</th>\n",
       "      <th>Age</th>\n",
       "      <th>Daily Work Load Average</th>\n",
       "      <th>Body Mass Index</th>\n",
       "      <th>Education</th>\n",
       "      <th>Children</th>\n",
       "      <th>Pets</th>\n",
       "      <th>Absenteeism Time in Hours</th>\n",
       "    </tr>\n",
       "  </thead>\n",
       "  <tbody>\n",
       "    <tr>\n",
       "      <th>0</th>\n",
       "      <td>0</td>\n",
       "      <td>0</td>\n",
       "      <td>0</td>\n",
       "      <td>1</td>\n",
       "      <td>7</td>\n",
       "      <td>1</td>\n",
       "      <td>289</td>\n",
       "      <td>36</td>\n",
       "      <td>33</td>\n",
       "      <td>239.554</td>\n",
       "      <td>30</td>\n",
       "      <td>0</td>\n",
       "      <td>2</td>\n",
       "      <td>1</td>\n",
       "      <td>4</td>\n",
       "    </tr>\n",
       "    <tr>\n",
       "      <th>1</th>\n",
       "      <td>0</td>\n",
       "      <td>0</td>\n",
       "      <td>0</td>\n",
       "      <td>0</td>\n",
       "      <td>7</td>\n",
       "      <td>1</td>\n",
       "      <td>118</td>\n",
       "      <td>13</td>\n",
       "      <td>50</td>\n",
       "      <td>239.554</td>\n",
       "      <td>31</td>\n",
       "      <td>0</td>\n",
       "      <td>1</td>\n",
       "      <td>0</td>\n",
       "      <td>0</td>\n",
       "    </tr>\n",
       "    <tr>\n",
       "      <th>2</th>\n",
       "      <td>0</td>\n",
       "      <td>0</td>\n",
       "      <td>0</td>\n",
       "      <td>1</td>\n",
       "      <td>7</td>\n",
       "      <td>2</td>\n",
       "      <td>179</td>\n",
       "      <td>51</td>\n",
       "      <td>38</td>\n",
       "      <td>239.554</td>\n",
       "      <td>31</td>\n",
       "      <td>0</td>\n",
       "      <td>0</td>\n",
       "      <td>0</td>\n",
       "      <td>2</td>\n",
       "    </tr>\n",
       "    <tr>\n",
       "      <th>3</th>\n",
       "      <td>1</td>\n",
       "      <td>0</td>\n",
       "      <td>0</td>\n",
       "      <td>0</td>\n",
       "      <td>7</td>\n",
       "      <td>3</td>\n",
       "      <td>279</td>\n",
       "      <td>5</td>\n",
       "      <td>39</td>\n",
       "      <td>239.554</td>\n",
       "      <td>24</td>\n",
       "      <td>0</td>\n",
       "      <td>2</td>\n",
       "      <td>0</td>\n",
       "      <td>4</td>\n",
       "    </tr>\n",
       "    <tr>\n",
       "      <th>4</th>\n",
       "      <td>0</td>\n",
       "      <td>0</td>\n",
       "      <td>0</td>\n",
       "      <td>1</td>\n",
       "      <td>7</td>\n",
       "      <td>3</td>\n",
       "      <td>289</td>\n",
       "      <td>36</td>\n",
       "      <td>33</td>\n",
       "      <td>239.554</td>\n",
       "      <td>30</td>\n",
       "      <td>0</td>\n",
       "      <td>2</td>\n",
       "      <td>1</td>\n",
       "      <td>2</td>\n",
       "    </tr>\n",
       "  </tbody>\n",
       "</table>\n",
       "</div>"
      ],
      "text/plain": [
       "   Reason_type_1  Reason_type_2  Reason_type_3  Reason_type_4  Month Value  \\\n",
       "0              0              0              0              1            7   \n",
       "1              0              0              0              0            7   \n",
       "2              0              0              0              1            7   \n",
       "3              1              0              0              0            7   \n",
       "4              0              0              0              1            7   \n",
       "\n",
       "   Day of the week  Transportation Expense  Distance to Work  Age  \\\n",
       "0                1                     289                36   33   \n",
       "1                1                     118                13   50   \n",
       "2                2                     179                51   38   \n",
       "3                3                     279                 5   39   \n",
       "4                3                     289                36   33   \n",
       "\n",
       "   Daily Work Load Average  Body Mass Index  Education  Children  Pets  \\\n",
       "0                  239.554               30          0         2     1   \n",
       "1                  239.554               31          0         1     0   \n",
       "2                  239.554               31          0         0     0   \n",
       "3                  239.554               24          0         2     0   \n",
       "4                  239.554               30          0         2     1   \n",
       "\n",
       "   Absenteeism Time in Hours  \n",
       "0                          4  \n",
       "1                          0  \n",
       "2                          2  \n",
       "3                          4  \n",
       "4                          2  "
      ]
     },
     "execution_count": 3,
     "metadata": {},
     "output_type": "execute_result"
    }
   ],
   "source": [
    "data_preprocessed.head()"
   ]
  },
  {
   "cell_type": "code",
   "execution_count": 4,
   "id": "fda6a360",
   "metadata": {},
   "outputs": [
    {
     "data": {
      "text/plain": [
       "3.0"
      ]
     },
     "execution_count": 4,
     "metadata": {},
     "output_type": "execute_result"
    }
   ],
   "source": [
    "data_preprocessed['Absenteeism Time in Hours'].median()"
   ]
  },
  {
   "cell_type": "code",
   "execution_count": 5,
   "id": "5f1db365",
   "metadata": {},
   "outputs": [],
   "source": [
    "targets = np.where(data_preprocessed['Absenteeism Time in Hours'] > data_preprocessed['Absenteeism Time in Hours'].median(), 1, 0)"
   ]
  },
  {
   "cell_type": "markdown",
   "id": "60fd5ea6",
   "metadata": {},
   "source": [
    "##### Declare the inputs and targets"
   ]
  },
  {
   "cell_type": "code",
   "execution_count": 6,
   "id": "c3016abb",
   "metadata": {},
   "outputs": [],
   "source": [
    "data_preprocessed['Excessive absenteeism'] = targets"
   ]
  },
  {
   "cell_type": "code",
   "execution_count": 7,
   "id": "10f10896",
   "metadata": {},
   "outputs": [
    {
     "data": {
      "text/html": [
       "<div>\n",
       "<style scoped>\n",
       "    .dataframe tbody tr th:only-of-type {\n",
       "        vertical-align: middle;\n",
       "    }\n",
       "\n",
       "    .dataframe tbody tr th {\n",
       "        vertical-align: top;\n",
       "    }\n",
       "\n",
       "    .dataframe thead th {\n",
       "        text-align: right;\n",
       "    }\n",
       "</style>\n",
       "<table border=\"1\" class=\"dataframe\">\n",
       "  <thead>\n",
       "    <tr style=\"text-align: right;\">\n",
       "      <th></th>\n",
       "      <th>Reason_type_1</th>\n",
       "      <th>Reason_type_2</th>\n",
       "      <th>Reason_type_3</th>\n",
       "      <th>Reason_type_4</th>\n",
       "      <th>Month Value</th>\n",
       "      <th>Day of the week</th>\n",
       "      <th>Transportation Expense</th>\n",
       "      <th>Distance to Work</th>\n",
       "      <th>Age</th>\n",
       "      <th>Daily Work Load Average</th>\n",
       "      <th>Body Mass Index</th>\n",
       "      <th>Education</th>\n",
       "      <th>Children</th>\n",
       "      <th>Pets</th>\n",
       "      <th>Absenteeism Time in Hours</th>\n",
       "      <th>Excessive absenteeism</th>\n",
       "    </tr>\n",
       "  </thead>\n",
       "  <tbody>\n",
       "    <tr>\n",
       "      <th>0</th>\n",
       "      <td>0</td>\n",
       "      <td>0</td>\n",
       "      <td>0</td>\n",
       "      <td>1</td>\n",
       "      <td>7</td>\n",
       "      <td>1</td>\n",
       "      <td>289</td>\n",
       "      <td>36</td>\n",
       "      <td>33</td>\n",
       "      <td>239.554</td>\n",
       "      <td>30</td>\n",
       "      <td>0</td>\n",
       "      <td>2</td>\n",
       "      <td>1</td>\n",
       "      <td>4</td>\n",
       "      <td>1</td>\n",
       "    </tr>\n",
       "    <tr>\n",
       "      <th>1</th>\n",
       "      <td>0</td>\n",
       "      <td>0</td>\n",
       "      <td>0</td>\n",
       "      <td>0</td>\n",
       "      <td>7</td>\n",
       "      <td>1</td>\n",
       "      <td>118</td>\n",
       "      <td>13</td>\n",
       "      <td>50</td>\n",
       "      <td>239.554</td>\n",
       "      <td>31</td>\n",
       "      <td>0</td>\n",
       "      <td>1</td>\n",
       "      <td>0</td>\n",
       "      <td>0</td>\n",
       "      <td>0</td>\n",
       "    </tr>\n",
       "    <tr>\n",
       "      <th>2</th>\n",
       "      <td>0</td>\n",
       "      <td>0</td>\n",
       "      <td>0</td>\n",
       "      <td>1</td>\n",
       "      <td>7</td>\n",
       "      <td>2</td>\n",
       "      <td>179</td>\n",
       "      <td>51</td>\n",
       "      <td>38</td>\n",
       "      <td>239.554</td>\n",
       "      <td>31</td>\n",
       "      <td>0</td>\n",
       "      <td>0</td>\n",
       "      <td>0</td>\n",
       "      <td>2</td>\n",
       "      <td>0</td>\n",
       "    </tr>\n",
       "    <tr>\n",
       "      <th>3</th>\n",
       "      <td>1</td>\n",
       "      <td>0</td>\n",
       "      <td>0</td>\n",
       "      <td>0</td>\n",
       "      <td>7</td>\n",
       "      <td>3</td>\n",
       "      <td>279</td>\n",
       "      <td>5</td>\n",
       "      <td>39</td>\n",
       "      <td>239.554</td>\n",
       "      <td>24</td>\n",
       "      <td>0</td>\n",
       "      <td>2</td>\n",
       "      <td>0</td>\n",
       "      <td>4</td>\n",
       "      <td>1</td>\n",
       "    </tr>\n",
       "    <tr>\n",
       "      <th>4</th>\n",
       "      <td>0</td>\n",
       "      <td>0</td>\n",
       "      <td>0</td>\n",
       "      <td>1</td>\n",
       "      <td>7</td>\n",
       "      <td>3</td>\n",
       "      <td>289</td>\n",
       "      <td>36</td>\n",
       "      <td>33</td>\n",
       "      <td>239.554</td>\n",
       "      <td>30</td>\n",
       "      <td>0</td>\n",
       "      <td>2</td>\n",
       "      <td>1</td>\n",
       "      <td>2</td>\n",
       "      <td>0</td>\n",
       "    </tr>\n",
       "  </tbody>\n",
       "</table>\n",
       "</div>"
      ],
      "text/plain": [
       "   Reason_type_1  Reason_type_2  Reason_type_3  Reason_type_4  Month Value  \\\n",
       "0              0              0              0              1            7   \n",
       "1              0              0              0              0            7   \n",
       "2              0              0              0              1            7   \n",
       "3              1              0              0              0            7   \n",
       "4              0              0              0              1            7   \n",
       "\n",
       "   Day of the week  Transportation Expense  Distance to Work  Age  \\\n",
       "0                1                     289                36   33   \n",
       "1                1                     118                13   50   \n",
       "2                2                     179                51   38   \n",
       "3                3                     279                 5   39   \n",
       "4                3                     289                36   33   \n",
       "\n",
       "   Daily Work Load Average  Body Mass Index  Education  Children  Pets  \\\n",
       "0                  239.554               30          0         2     1   \n",
       "1                  239.554               31          0         1     0   \n",
       "2                  239.554               31          0         0     0   \n",
       "3                  239.554               24          0         2     0   \n",
       "4                  239.554               30          0         2     1   \n",
       "\n",
       "   Absenteeism Time in Hours  Excessive absenteeism  \n",
       "0                          4                      1  \n",
       "1                          0                      0  \n",
       "2                          2                      0  \n",
       "3                          4                      1  \n",
       "4                          2                      0  "
      ]
     },
     "execution_count": 7,
     "metadata": {},
     "output_type": "execute_result"
    }
   ],
   "source": [
    "data_preprocessed.head()"
   ]
  },
  {
   "cell_type": "code",
   "execution_count": 8,
   "id": "ba679807-eadb-4acd-8e08-e6d3a68f5acd",
   "metadata": {},
   "outputs": [
    {
     "data": {
      "text/plain": [
       "0    0.544286\n",
       "1    0.455714\n",
       "Name: Excessive absenteeism, dtype: float64"
      ]
     },
     "execution_count": 8,
     "metadata": {},
     "output_type": "execute_result"
    }
   ],
   "source": [
    "# checking the balance of classes\n",
    "data_preprocessed['Excessive absenteeism'].value_counts(normalize=True)"
   ]
  },
  {
   "cell_type": "code",
   "execution_count": 9,
   "id": "6381dc31",
   "metadata": {},
   "outputs": [],
   "source": [
    "data_with_targets = data_preprocessed.drop(['Absenteeism Time in Hours','Daily Work Load Average','Distance to Work','Day of the week'], axis = 1)"
   ]
  },
  {
   "cell_type": "code",
   "execution_count": 10,
   "id": "e3ef7148",
   "metadata": {},
   "outputs": [
    {
     "data": {
      "text/plain": [
       "(700, 12)"
      ]
     },
     "execution_count": 10,
     "metadata": {},
     "output_type": "execute_result"
    }
   ],
   "source": [
    "data_with_targets.shape"
   ]
  },
  {
   "cell_type": "code",
   "execution_count": 11,
   "id": "824028ba",
   "metadata": {},
   "outputs": [
    {
     "data": {
      "text/html": [
       "<div>\n",
       "<style scoped>\n",
       "    .dataframe tbody tr th:only-of-type {\n",
       "        vertical-align: middle;\n",
       "    }\n",
       "\n",
       "    .dataframe tbody tr th {\n",
       "        vertical-align: top;\n",
       "    }\n",
       "\n",
       "    .dataframe thead th {\n",
       "        text-align: right;\n",
       "    }\n",
       "</style>\n",
       "<table border=\"1\" class=\"dataframe\">\n",
       "  <thead>\n",
       "    <tr style=\"text-align: right;\">\n",
       "      <th></th>\n",
       "      <th>Reason_type_1</th>\n",
       "      <th>Reason_type_2</th>\n",
       "      <th>Reason_type_3</th>\n",
       "      <th>Reason_type_4</th>\n",
       "      <th>Month Value</th>\n",
       "      <th>Transportation Expense</th>\n",
       "      <th>Age</th>\n",
       "      <th>Body Mass Index</th>\n",
       "      <th>Education</th>\n",
       "      <th>Children</th>\n",
       "      <th>Pets</th>\n",
       "    </tr>\n",
       "  </thead>\n",
       "  <tbody>\n",
       "    <tr>\n",
       "      <th>0</th>\n",
       "      <td>0</td>\n",
       "      <td>0</td>\n",
       "      <td>0</td>\n",
       "      <td>1</td>\n",
       "      <td>7</td>\n",
       "      <td>289</td>\n",
       "      <td>33</td>\n",
       "      <td>30</td>\n",
       "      <td>0</td>\n",
       "      <td>2</td>\n",
       "      <td>1</td>\n",
       "    </tr>\n",
       "    <tr>\n",
       "      <th>1</th>\n",
       "      <td>0</td>\n",
       "      <td>0</td>\n",
       "      <td>0</td>\n",
       "      <td>0</td>\n",
       "      <td>7</td>\n",
       "      <td>118</td>\n",
       "      <td>50</td>\n",
       "      <td>31</td>\n",
       "      <td>0</td>\n",
       "      <td>1</td>\n",
       "      <td>0</td>\n",
       "    </tr>\n",
       "    <tr>\n",
       "      <th>2</th>\n",
       "      <td>0</td>\n",
       "      <td>0</td>\n",
       "      <td>0</td>\n",
       "      <td>1</td>\n",
       "      <td>7</td>\n",
       "      <td>179</td>\n",
       "      <td>38</td>\n",
       "      <td>31</td>\n",
       "      <td>0</td>\n",
       "      <td>0</td>\n",
       "      <td>0</td>\n",
       "    </tr>\n",
       "    <tr>\n",
       "      <th>3</th>\n",
       "      <td>1</td>\n",
       "      <td>0</td>\n",
       "      <td>0</td>\n",
       "      <td>0</td>\n",
       "      <td>7</td>\n",
       "      <td>279</td>\n",
       "      <td>39</td>\n",
       "      <td>24</td>\n",
       "      <td>0</td>\n",
       "      <td>2</td>\n",
       "      <td>0</td>\n",
       "    </tr>\n",
       "    <tr>\n",
       "      <th>4</th>\n",
       "      <td>0</td>\n",
       "      <td>0</td>\n",
       "      <td>0</td>\n",
       "      <td>1</td>\n",
       "      <td>7</td>\n",
       "      <td>289</td>\n",
       "      <td>33</td>\n",
       "      <td>30</td>\n",
       "      <td>0</td>\n",
       "      <td>2</td>\n",
       "      <td>1</td>\n",
       "    </tr>\n",
       "    <tr>\n",
       "      <th>...</th>\n",
       "      <td>...</td>\n",
       "      <td>...</td>\n",
       "      <td>...</td>\n",
       "      <td>...</td>\n",
       "      <td>...</td>\n",
       "      <td>...</td>\n",
       "      <td>...</td>\n",
       "      <td>...</td>\n",
       "      <td>...</td>\n",
       "      <td>...</td>\n",
       "      <td>...</td>\n",
       "    </tr>\n",
       "    <tr>\n",
       "      <th>695</th>\n",
       "      <td>1</td>\n",
       "      <td>0</td>\n",
       "      <td>0</td>\n",
       "      <td>0</td>\n",
       "      <td>5</td>\n",
       "      <td>179</td>\n",
       "      <td>40</td>\n",
       "      <td>22</td>\n",
       "      <td>1</td>\n",
       "      <td>2</td>\n",
       "      <td>0</td>\n",
       "    </tr>\n",
       "    <tr>\n",
       "      <th>696</th>\n",
       "      <td>1</td>\n",
       "      <td>0</td>\n",
       "      <td>0</td>\n",
       "      <td>0</td>\n",
       "      <td>5</td>\n",
       "      <td>225</td>\n",
       "      <td>28</td>\n",
       "      <td>24</td>\n",
       "      <td>0</td>\n",
       "      <td>1</td>\n",
       "      <td>2</td>\n",
       "    </tr>\n",
       "    <tr>\n",
       "      <th>697</th>\n",
       "      <td>1</td>\n",
       "      <td>0</td>\n",
       "      <td>0</td>\n",
       "      <td>0</td>\n",
       "      <td>5</td>\n",
       "      <td>330</td>\n",
       "      <td>28</td>\n",
       "      <td>25</td>\n",
       "      <td>1</td>\n",
       "      <td>0</td>\n",
       "      <td>0</td>\n",
       "    </tr>\n",
       "    <tr>\n",
       "      <th>698</th>\n",
       "      <td>0</td>\n",
       "      <td>0</td>\n",
       "      <td>0</td>\n",
       "      <td>1</td>\n",
       "      <td>5</td>\n",
       "      <td>235</td>\n",
       "      <td>32</td>\n",
       "      <td>25</td>\n",
       "      <td>1</td>\n",
       "      <td>0</td>\n",
       "      <td>0</td>\n",
       "    </tr>\n",
       "    <tr>\n",
       "      <th>699</th>\n",
       "      <td>0</td>\n",
       "      <td>0</td>\n",
       "      <td>0</td>\n",
       "      <td>1</td>\n",
       "      <td>5</td>\n",
       "      <td>291</td>\n",
       "      <td>40</td>\n",
       "      <td>25</td>\n",
       "      <td>0</td>\n",
       "      <td>1</td>\n",
       "      <td>1</td>\n",
       "    </tr>\n",
       "  </tbody>\n",
       "</table>\n",
       "<p>700 rows × 11 columns</p>\n",
       "</div>"
      ],
      "text/plain": [
       "     Reason_type_1  Reason_type_2  Reason_type_3  Reason_type_4  Month Value  \\\n",
       "0                0              0              0              1            7   \n",
       "1                0              0              0              0            7   \n",
       "2                0              0              0              1            7   \n",
       "3                1              0              0              0            7   \n",
       "4                0              0              0              1            7   \n",
       "..             ...            ...            ...            ...          ...   \n",
       "695              1              0              0              0            5   \n",
       "696              1              0              0              0            5   \n",
       "697              1              0              0              0            5   \n",
       "698              0              0              0              1            5   \n",
       "699              0              0              0              1            5   \n",
       "\n",
       "     Transportation Expense  Age  Body Mass Index  Education  Children  Pets  \n",
       "0                       289   33               30          0         2     1  \n",
       "1                       118   50               31          0         1     0  \n",
       "2                       179   38               31          0         0     0  \n",
       "3                       279   39               24          0         2     0  \n",
       "4                       289   33               30          0         2     1  \n",
       "..                      ...  ...              ...        ...       ...   ...  \n",
       "695                     179   40               22          1         2     0  \n",
       "696                     225   28               24          0         1     2  \n",
       "697                     330   28               25          1         0     0  \n",
       "698                     235   32               25          1         0     0  \n",
       "699                     291   40               25          0         1     1  \n",
       "\n",
       "[700 rows x 11 columns]"
      ]
     },
     "execution_count": 11,
     "metadata": {},
     "output_type": "execute_result"
    }
   ],
   "source": [
    "data_with_targets.iloc[:, :-1]"
   ]
  },
  {
   "cell_type": "code",
   "execution_count": 12,
   "id": "15eab820",
   "metadata": {},
   "outputs": [],
   "source": [
    "unscaled_inputs = data_with_targets.iloc[:, :-1]"
   ]
  },
  {
   "cell_type": "code",
   "execution_count": 13,
   "id": "6e5bdcb7-dc1f-48fb-8068-0855feaaa4a1",
   "metadata": {},
   "outputs": [
    {
     "data": {
      "text/plain": [
       "11"
      ]
     },
     "execution_count": 13,
     "metadata": {},
     "output_type": "execute_result"
    }
   ],
   "source": [
    "len(unscaled_inputs.columns)"
   ]
  },
  {
   "cell_type": "code",
   "execution_count": 74,
   "id": "c53a83db-ea1a-45eb-b14d-1cf5600271f8",
   "metadata": {},
   "outputs": [
    {
     "data": {
      "text/plain": [
       "Index(['Reason_type_1', 'Reason_type_2', 'Reason_type_3', 'Reason_type_4',\n",
       "       'Month Value', 'Transportation Expense', 'Age', 'Body Mass Index',\n",
       "       'Education', 'Children', 'Pets'],\n",
       "      dtype='object')"
      ]
     },
     "execution_count": 74,
     "metadata": {},
     "output_type": "execute_result"
    }
   ],
   "source": [
    "unscaled_inputs.columns"
   ]
  },
  {
   "cell_type": "markdown",
   "id": "7efc2365",
   "metadata": {},
   "source": [
    "##### Train test split"
   ]
  },
  {
   "cell_type": "code",
   "execution_count": 14,
   "id": "b763b364",
   "metadata": {},
   "outputs": [],
   "source": [
    "from sklearn.model_selection import train_test_split"
   ]
  },
  {
   "cell_type": "code",
   "execution_count": 15,
   "id": "dea64f84",
   "metadata": {},
   "outputs": [],
   "source": [
    "x_train, x_test, y_train, y_test = train_test_split(unscaled_inputs, targets, train_size = 0.8, random_state = 20)"
   ]
  },
  {
   "cell_type": "code",
   "execution_count": 16,
   "id": "da73ab6f",
   "metadata": {},
   "outputs": [
    {
     "name": "stdout",
     "output_type": "stream",
     "text": [
      "(560, 11) (560,)\n"
     ]
    }
   ],
   "source": [
    "print(x_train.shape, y_train.shape)"
   ]
  },
  {
   "cell_type": "code",
   "execution_count": 17,
   "id": "5b0aea6b",
   "metadata": {},
   "outputs": [
    {
     "name": "stdout",
     "output_type": "stream",
     "text": [
      "(140, 11) (140,)\n"
     ]
    }
   ],
   "source": [
    "print(x_test.shape, y_test.shape)"
   ]
  },
  {
   "cell_type": "markdown",
   "id": "34400942",
   "metadata": {},
   "source": [
    "##### Scale the data"
   ]
  },
  {
   "cell_type": "code",
   "execution_count": 18,
   "id": "a577ff56",
   "metadata": {},
   "outputs": [],
   "source": [
    "from sklearn.preprocessing import StandardScaler\n",
    "absenteeism_scaler = StandardScaler()"
   ]
  },
  {
   "cell_type": "code",
   "execution_count": 19,
   "id": "920afd3b",
   "metadata": {},
   "outputs": [],
   "source": [
    "scaled_x_train = absenteeism_scaler.fit_transform(x_train)"
   ]
  },
  {
   "cell_type": "code",
   "execution_count": 20,
   "id": "1d4460a2",
   "metadata": {},
   "outputs": [],
   "source": [
    "scaled_x_test = absenteeism_scaler.transform(x_test)"
   ]
  },
  {
   "cell_type": "markdown",
   "id": "c18a6652",
   "metadata": {},
   "source": [
    "# Machine learning"
   ]
  },
  {
   "cell_type": "markdown",
   "id": "32fc292b-0113-48a5-af22-1748501a5758",
   "metadata": {},
   "source": [
    "## 1. Logistic regression"
   ]
  },
  {
   "cell_type": "code",
   "execution_count": 21,
   "id": "93afb198",
   "metadata": {},
   "outputs": [],
   "source": [
    "from sklearn.linear_model import LogisticRegression\n",
    "from sklearn import metrics"
   ]
  },
  {
   "cell_type": "code",
   "execution_count": 22,
   "id": "8e2a499b",
   "metadata": {},
   "outputs": [],
   "source": [
    "reg = LogisticRegression(random_state=42)"
   ]
  },
  {
   "cell_type": "markdown",
   "id": "515a6853",
   "metadata": {},
   "source": [
    "##### Train the model"
   ]
  },
  {
   "cell_type": "code",
   "execution_count": 23,
   "id": "90c7924c",
   "metadata": {},
   "outputs": [
    {
     "data": {
      "text/plain": [
       "LogisticRegression(random_state=42)"
      ]
     },
     "execution_count": 23,
     "metadata": {},
     "output_type": "execute_result"
    }
   ],
   "source": [
    "reg.fit(scaled_x_train,y_train)"
   ]
  },
  {
   "cell_type": "code",
   "execution_count": 24,
   "id": "46f55436-8c45-41e6-ab7d-949440ab3e97",
   "metadata": {},
   "outputs": [],
   "source": [
    "y_hat_logit = reg.predict(scaled_x_train)"
   ]
  },
  {
   "cell_type": "markdown",
   "id": "6a11eabf-eb9a-43f3-941c-51026130351c",
   "metadata": {},
   "source": [
    "##### Model performance"
   ]
  },
  {
   "cell_type": "code",
   "execution_count": 25,
   "id": "23088df5-2f8b-4d6f-9b0e-b4a3cc818f46",
   "metadata": {},
   "outputs": [
    {
     "data": {
      "text/plain": [
       "array([[250,  57],\n",
       "       [ 64, 189]], dtype=int64)"
      ]
     },
     "execution_count": 25,
     "metadata": {},
     "output_type": "execute_result"
    }
   ],
   "source": [
    "confusion_matrix(y_train, y_hat_logit)"
   ]
  },
  {
   "cell_type": "code",
   "execution_count": 26,
   "id": "605fad36-73a0-4bbd-9358-7669d600c908",
   "metadata": {},
   "outputs": [
    {
     "data": {
      "text/plain": [
       "0.7839285714285714"
      ]
     },
     "execution_count": 26,
     "metadata": {},
     "output_type": "execute_result"
    }
   ],
   "source": [
    "accuracy_score(y_train, y_hat_logit)"
   ]
  },
  {
   "cell_type": "code",
   "execution_count": 27,
   "id": "99c47844-7042-471a-9946-adc76cdc1678",
   "metadata": {},
   "outputs": [
    {
     "name": "stdout",
     "output_type": "stream",
     "text": [
      "              precision    recall  f1-score   support\n",
      "\n",
      "           0       0.80      0.81      0.81       307\n",
      "           1       0.77      0.75      0.76       253\n",
      "\n",
      "    accuracy                           0.78       560\n",
      "   macro avg       0.78      0.78      0.78       560\n",
      "weighted avg       0.78      0.78      0.78       560\n",
      "\n"
     ]
    }
   ],
   "source": [
    "print(classification_report(y_train, y_hat_logit))"
   ]
  },
  {
   "cell_type": "markdown",
   "id": "07d9d785",
   "metadata": {},
   "source": [
    "##### The weight and bias"
   ]
  },
  {
   "cell_type": "code",
   "execution_count": 28,
   "id": "c7750073",
   "metadata": {},
   "outputs": [
    {
     "data": {
      "text/plain": [
       "array([-0.23487025])"
      ]
     },
     "execution_count": 28,
     "metadata": {},
     "output_type": "execute_result"
    }
   ],
   "source": [
    "reg.intercept_"
   ]
  },
  {
   "cell_type": "code",
   "execution_count": 29,
   "id": "7006f334",
   "metadata": {},
   "outputs": [
    {
     "data": {
      "text/plain": [
       "array([[ 2.06656302,  0.37486084,  1.54399512,  1.31248316,  0.18496921,\n",
       "         0.70205184, -0.19706583,  0.32628496, -0.12887747,  0.37553467,\n",
       "        -0.33531437]])"
      ]
     },
     "execution_count": 29,
     "metadata": {},
     "output_type": "execute_result"
    }
   ],
   "source": [
    "reg.coef_"
   ]
  },
  {
   "cell_type": "code",
   "execution_count": 30,
   "id": "33491ee7",
   "metadata": {},
   "outputs": [],
   "source": [
    "feature_name = unscaled_inputs.columns.values"
   ]
  },
  {
   "cell_type": "code",
   "execution_count": 31,
   "id": "c3519ea9",
   "metadata": {},
   "outputs": [
    {
     "data": {
      "text/html": [
       "<div>\n",
       "<style scoped>\n",
       "    .dataframe tbody tr th:only-of-type {\n",
       "        vertical-align: middle;\n",
       "    }\n",
       "\n",
       "    .dataframe tbody tr th {\n",
       "        vertical-align: top;\n",
       "    }\n",
       "\n",
       "    .dataframe thead th {\n",
       "        text-align: right;\n",
       "    }\n",
       "</style>\n",
       "<table border=\"1\" class=\"dataframe\">\n",
       "  <thead>\n",
       "    <tr style=\"text-align: right;\">\n",
       "      <th></th>\n",
       "      <th>Feature name</th>\n",
       "      <th>Coefficient</th>\n",
       "      <th>Odds_ratio</th>\n",
       "    </tr>\n",
       "  </thead>\n",
       "  <tbody>\n",
       "    <tr>\n",
       "      <th>1</th>\n",
       "      <td>Reason_type_1</td>\n",
       "      <td>2.066563</td>\n",
       "      <td>7.897632</td>\n",
       "    </tr>\n",
       "    <tr>\n",
       "      <th>2</th>\n",
       "      <td>Reason_type_2</td>\n",
       "      <td>0.374861</td>\n",
       "      <td>1.454789</td>\n",
       "    </tr>\n",
       "    <tr>\n",
       "      <th>3</th>\n",
       "      <td>Reason_type_3</td>\n",
       "      <td>1.543995</td>\n",
       "      <td>4.683263</td>\n",
       "    </tr>\n",
       "    <tr>\n",
       "      <th>4</th>\n",
       "      <td>Reason_type_4</td>\n",
       "      <td>1.312483</td>\n",
       "      <td>3.715388</td>\n",
       "    </tr>\n",
       "    <tr>\n",
       "      <th>5</th>\n",
       "      <td>Month Value</td>\n",
       "      <td>0.184969</td>\n",
       "      <td>1.203181</td>\n",
       "    </tr>\n",
       "    <tr>\n",
       "      <th>6</th>\n",
       "      <td>Transportation Expense</td>\n",
       "      <td>0.702052</td>\n",
       "      <td>2.017889</td>\n",
       "    </tr>\n",
       "    <tr>\n",
       "      <th>7</th>\n",
       "      <td>Age</td>\n",
       "      <td>-0.197066</td>\n",
       "      <td>0.821137</td>\n",
       "    </tr>\n",
       "    <tr>\n",
       "      <th>8</th>\n",
       "      <td>Body Mass Index</td>\n",
       "      <td>0.326285</td>\n",
       "      <td>1.385810</td>\n",
       "    </tr>\n",
       "    <tr>\n",
       "      <th>9</th>\n",
       "      <td>Education</td>\n",
       "      <td>-0.128877</td>\n",
       "      <td>0.879082</td>\n",
       "    </tr>\n",
       "    <tr>\n",
       "      <th>10</th>\n",
       "      <td>Children</td>\n",
       "      <td>0.375535</td>\n",
       "      <td>1.455770</td>\n",
       "    </tr>\n",
       "    <tr>\n",
       "      <th>11</th>\n",
       "      <td>Pets</td>\n",
       "      <td>-0.335314</td>\n",
       "      <td>0.715113</td>\n",
       "    </tr>\n",
       "    <tr>\n",
       "      <th>0</th>\n",
       "      <td>Intercept</td>\n",
       "      <td>-0.234870</td>\n",
       "      <td>0.790673</td>\n",
       "    </tr>\n",
       "  </tbody>\n",
       "</table>\n",
       "</div>"
      ],
      "text/plain": [
       "              Feature name  Coefficient  Odds_ratio\n",
       "1            Reason_type_1     2.066563    7.897632\n",
       "2            Reason_type_2     0.374861    1.454789\n",
       "3            Reason_type_3     1.543995    4.683263\n",
       "4            Reason_type_4     1.312483    3.715388\n",
       "5              Month Value     0.184969    1.203181\n",
       "6   Transportation Expense     0.702052    2.017889\n",
       "7                      Age    -0.197066    0.821137\n",
       "8          Body Mass Index     0.326285    1.385810\n",
       "9                Education    -0.128877    0.879082\n",
       "10                Children     0.375535    1.455770\n",
       "11                    Pets    -0.335314    0.715113\n",
       "0                Intercept    -0.234870    0.790673"
      ]
     },
     "execution_count": 31,
     "metadata": {},
     "output_type": "execute_result"
    }
   ],
   "source": [
    "summary_table = pd.DataFrame(columns=['Feature name'], data = feature_name)\n",
    "summary_table['Coefficient'] = np.transpose(reg.coef_)\n",
    "summary_table.index = summary_table.index + 1\n",
    "summary_table.loc[0] = ['Intercept', reg.intercept_[0]]\n",
    "summary_table['Odds_ratio'] = np.exp(summary_table.Coefficient)\n",
    "summary_table.sort_values('Odds_ratio', ascending=False)\n",
    "summary_table"
   ]
  },
  {
   "cell_type": "markdown",
   "id": "946ec784-eb0c-4de6-9d9d-d6d019e70e53",
   "metadata": {},
   "source": [
    "## 2. Support Vector machines"
   ]
  },
  {
   "cell_type": "markdown",
   "id": "25c0aeeb-2f8e-4bc2-94a7-24e3bff82c41",
   "metadata": {},
   "source": [
    "### a) Linear svm classification"
   ]
  },
  {
   "cell_type": "code",
   "execution_count": 32,
   "id": "39822952-ce18-4931-9206-920075a42a42",
   "metadata": {},
   "outputs": [],
   "source": [
    "lsvm_reg = LinearSVC(C=1, loss='hinge', random_state=42, max_iter=10000)"
   ]
  },
  {
   "cell_type": "code",
   "execution_count": 33,
   "id": "10fd13ea-b528-436d-aa6b-feec1dd5bf8e",
   "metadata": {},
   "outputs": [
    {
     "data": {
      "text/plain": [
       "LinearSVC(C=1, loss='hinge', max_iter=10000, random_state=42)"
      ]
     },
     "execution_count": 33,
     "metadata": {},
     "output_type": "execute_result"
    }
   ],
   "source": [
    "lsvm_reg.fit(scaled_x_train,y_train)"
   ]
  },
  {
   "cell_type": "code",
   "execution_count": 34,
   "id": "87e42fac-56aa-4db3-a06e-20c4706df1b4",
   "metadata": {},
   "outputs": [],
   "source": [
    "y_hat_lsvm = lsvm_reg.predict(scaled_x_train)"
   ]
  },
  {
   "cell_type": "markdown",
   "id": "a9f2afa6-e46a-4aba-9fcd-1072bff84e9e",
   "metadata": {},
   "source": [
    "##### Model performance"
   ]
  },
  {
   "cell_type": "code",
   "execution_count": 35,
   "id": "80f93f7a-d60c-415a-8830-0ef292443791",
   "metadata": {},
   "outputs": [
    {
     "data": {
      "text/plain": [
       "array([[252,  55],\n",
       "       [ 77, 176]], dtype=int64)"
      ]
     },
     "execution_count": 35,
     "metadata": {},
     "output_type": "execute_result"
    }
   ],
   "source": [
    "confusion_matrix(y_train, y_hat_lsvm)"
   ]
  },
  {
   "cell_type": "code",
   "execution_count": 36,
   "id": "076ecea9-fe41-4c06-a485-a2b2a2075f05",
   "metadata": {},
   "outputs": [
    {
     "data": {
      "text/plain": [
       "0.7642857142857142"
      ]
     },
     "execution_count": 36,
     "metadata": {},
     "output_type": "execute_result"
    }
   ],
   "source": [
    "accuracy_score(y_train, y_hat_lsvm)"
   ]
  },
  {
   "cell_type": "code",
   "execution_count": 37,
   "id": "e7e276d0-db4f-4cf5-958d-2deb0bc265b2",
   "metadata": {},
   "outputs": [
    {
     "name": "stdout",
     "output_type": "stream",
     "text": [
      "              precision    recall  f1-score   support\n",
      "\n",
      "           0       0.77      0.82      0.79       307\n",
      "           1       0.76      0.70      0.73       253\n",
      "\n",
      "    accuracy                           0.76       560\n",
      "   macro avg       0.76      0.76      0.76       560\n",
      "weighted avg       0.76      0.76      0.76       560\n",
      "\n"
     ]
    }
   ],
   "source": [
    "print(classification_report(y_train, y_hat_lsvm))"
   ]
  },
  {
   "cell_type": "markdown",
   "id": "2eb211d2-726e-4053-98ac-ba43b48aadf6",
   "metadata": {},
   "source": [
    "### b) Non-linear svm classification"
   ]
  },
  {
   "cell_type": "markdown",
   "id": "b0c5cdfd-6fe3-4f66-9e92-715361c88eac",
   "metadata": {},
   "source": [
    "#### Gaussian rbf kernel"
   ]
  },
  {
   "cell_type": "code",
   "execution_count": 38,
   "id": "558ad3f6-7f57-441f-b93c-d622b459625e",
   "metadata": {},
   "outputs": [],
   "source": [
    "rbf_reg = SVC(kernel='rbf', random_state=42, C=1, gamma=5)"
   ]
  },
  {
   "cell_type": "code",
   "execution_count": 39,
   "id": "753692fe-95a2-49a1-9802-647fa4ff243a",
   "metadata": {},
   "outputs": [
    {
     "data": {
      "text/plain": [
       "SVC(C=1, gamma=5, random_state=42)"
      ]
     },
     "execution_count": 39,
     "metadata": {},
     "output_type": "execute_result"
    }
   ],
   "source": [
    "rbf_reg.fit(scaled_x_train, y_train)"
   ]
  },
  {
   "cell_type": "code",
   "execution_count": 40,
   "id": "5f43e094-2b87-421c-a196-ada16e615e77",
   "metadata": {},
   "outputs": [],
   "source": [
    "y_hat_rbf = rbf_reg.predict(scaled_x_train)"
   ]
  },
  {
   "cell_type": "markdown",
   "id": "ec3f9cd8-4476-4507-9a4c-d9fd9df5a818",
   "metadata": {},
   "source": [
    "##### Model prediction"
   ]
  },
  {
   "cell_type": "code",
   "execution_count": 41,
   "id": "4ff2ca82-8b42-47e9-b6b9-d9df110dbfb9",
   "metadata": {},
   "outputs": [
    {
     "data": {
      "text/plain": [
       "array([[282,  25],\n",
       "       [ 32, 221]], dtype=int64)"
      ]
     },
     "execution_count": 41,
     "metadata": {},
     "output_type": "execute_result"
    }
   ],
   "source": [
    "confusion_matrix(y_train, y_hat_rbf)"
   ]
  },
  {
   "cell_type": "code",
   "execution_count": 42,
   "id": "276dbae3-e6c7-4eb4-abcc-09e3e9138f72",
   "metadata": {},
   "outputs": [
    {
     "data": {
      "text/plain": [
       "0.8982142857142857"
      ]
     },
     "execution_count": 42,
     "metadata": {},
     "output_type": "execute_result"
    }
   ],
   "source": [
    "accuracy_score(y_train, y_hat_rbf)"
   ]
  },
  {
   "cell_type": "code",
   "execution_count": 43,
   "id": "1b7ee043-32b7-4721-ab60-852bb0c34364",
   "metadata": {},
   "outputs": [
    {
     "name": "stdout",
     "output_type": "stream",
     "text": [
      "              precision    recall  f1-score   support\n",
      "\n",
      "           0       0.90      0.92      0.91       307\n",
      "           1       0.90      0.87      0.89       253\n",
      "\n",
      "    accuracy                           0.90       560\n",
      "   macro avg       0.90      0.90      0.90       560\n",
      "weighted avg       0.90      0.90      0.90       560\n",
      "\n"
     ]
    }
   ],
   "source": [
    "print(classification_report(y_train, y_hat_rbf))"
   ]
  },
  {
   "cell_type": "markdown",
   "id": "7d8c2ce4-155f-43e8-ba58-85725413340c",
   "metadata": {},
   "source": [
    "## 3. Random Forest"
   ]
  },
  {
   "cell_type": "code",
   "execution_count": 59,
   "id": "faa85ab9-a4cf-45da-b061-6dd1b50b0f10",
   "metadata": {},
   "outputs": [],
   "source": [
    "rnd = RandomForestClassifier(n_estimators=10, max_leaf_nodes=4, n_jobs=-1)"
   ]
  },
  {
   "cell_type": "code",
   "execution_count": 60,
   "id": "feffb387-4243-4cbc-8243-789856a58247",
   "metadata": {},
   "outputs": [
    {
     "data": {
      "text/plain": [
       "RandomForestClassifier(max_leaf_nodes=4, n_estimators=10, n_jobs=-1)"
      ]
     },
     "execution_count": 60,
     "metadata": {},
     "output_type": "execute_result"
    }
   ],
   "source": [
    "rnd.fit(scaled_x_train, y_train)"
   ]
  },
  {
   "cell_type": "code",
   "execution_count": 78,
   "id": "0f88b7f3-85c1-4e4c-ace8-27988c76a2eb",
   "metadata": {},
   "outputs": [
    {
     "name": "stdout",
     "output_type": "stream",
     "text": [
      "Reason_type_1 0.19436390503702397\n",
      "Reason_type_2 0.0\n",
      "Reason_type_3 0.1462881090753995\n",
      "Reason_type_4 0.2622269850221166\n",
      "Month Value 0.03176284036300218\n",
      "Transportation Expense 0.1744828985308769\n",
      "Age 0.031237979935444082\n",
      "Body Mass Index 0.0460158448038198\n",
      "Education 0.0\n",
      "Children 0.11362143723231696\n",
      "Pets 0.0\n"
     ]
    }
   ],
   "source": [
    "# Relative importance of each feature\n",
    "for name, score in zip(unscaled_inputs, rnd.feature_importances_):\n",
    "    print(name, score)"
   ]
  },
  {
   "cell_type": "code",
   "execution_count": 64,
   "id": "98340fd6-ffb9-4780-a1cd-cbac40fe321b",
   "metadata": {},
   "outputs": [],
   "source": [
    "y_hat_rnd = rnd.predict(scaled_x_train)"
   ]
  },
  {
   "cell_type": "markdown",
   "id": "f0735a31-2c87-43bd-99e7-b8519d3047c8",
   "metadata": {},
   "source": [
    "##### Model prediction"
   ]
  },
  {
   "cell_type": "code",
   "execution_count": 65,
   "id": "8ce9b7d3-2a3b-4eae-a39d-def7e3445b88",
   "metadata": {},
   "outputs": [
    {
     "data": {
      "text/plain": [
       "array([[240,  67],\n",
       "       [ 85, 168]], dtype=int64)"
      ]
     },
     "execution_count": 65,
     "metadata": {},
     "output_type": "execute_result"
    }
   ],
   "source": [
    "confusion_matrix(y_train, y_hat_rnd)"
   ]
  },
  {
   "cell_type": "code",
   "execution_count": 66,
   "id": "c4066079-3ff9-415b-b718-f26ba004a48a",
   "metadata": {},
   "outputs": [
    {
     "data": {
      "text/plain": [
       "0.7285714285714285"
      ]
     },
     "execution_count": 66,
     "metadata": {},
     "output_type": "execute_result"
    }
   ],
   "source": [
    "accuracy_score(y_train, y_hat_rnd)"
   ]
  },
  {
   "cell_type": "code",
   "execution_count": 67,
   "id": "8cb1ba74-092f-47d8-946c-8917ea3adc28",
   "metadata": {},
   "outputs": [
    {
     "name": "stdout",
     "output_type": "stream",
     "text": [
      "              precision    recall  f1-score   support\n",
      "\n",
      "           0       0.74      0.78      0.76       307\n",
      "           1       0.71      0.66      0.69       253\n",
      "\n",
      "    accuracy                           0.73       560\n",
      "   macro avg       0.73      0.72      0.72       560\n",
      "weighted avg       0.73      0.73      0.73       560\n",
      "\n"
     ]
    }
   ],
   "source": [
    "print(classification_report(y_train, y_hat_rnd))"
   ]
  },
  {
   "cell_type": "code",
   "execution_count": 68,
   "id": "d9522085-9f51-4920-8189-7c2087f3bc7b",
   "metadata": {},
   "outputs": [
    {
     "name": "stdout",
     "output_type": "stream",
     "text": [
      "Warning: scaled_x_train has 11 features. Use PCA to reduce to 2 components for visualization.\n",
      "Training Logistic Regression...\n",
      "Training SVM (Linear)...\n",
      "Training SVM (rbf)...\n",
      "Training Random Forest...\n"
     ]
    },
    {
     "data": {
      "image/png": "[encoded data removed]",
      "text/plain": [
       "<Figure size 1080x432 with 4 Axes>"
      ]
     },
     "metadata": {
      "needs_background": "light"
     },
     "output_type": "display_data"
    }
   ],
   "source": [
    "scaled_x_train, y_train = make_classification(n_samples = 560, n_features = 11, n_redundant =0, n_classes =2, n_clusters_per_class =1, random_state=42)\n",
    "# prepare x for 2D plotting\n",
    "if scaled_x_train.shape[1] > 2:\n",
    "    print(f\"Warning: scaled_x_train has {scaled_x_train.shape[1]} features. \"\n",
    "          f\"Use PCA to reduce to 2 components for visualization.\")\n",
    "    pca = PCA(n_components=2, random_state=42)\n",
    "    X_plot = pca.fit_transform(scaled_x_train)\n",
    "else:\n",
    "    print(\"scaled_x_train has 2 features. Using them directly for visualization.\")\n",
    "    X_plot = scaled_x_train\n",
    "\n",
    "#Define colormaps dynamically based on the number of unique classes in y_train\n",
    "# For decision regions (light colors)\n",
    "colors_light = ['#FFAAAA', '#AAAAFF'] # Light red, Light blue\n",
    "cmap_light = ListedColormap(colors_light[:len(np.unique(y_train))])\n",
    "# For data points (bold colors)\n",
    "colors_bold = [\"#FF0000\", \"#0000FF\"] # Red, Blue\n",
    "cmap_bold = ListedColormap(colors_bold[:len(np.unique(y_train))])\n",
    "\n",
    "# Training the classes\n",
    "classifiers={\n",
    "    \"Logistic Regression\": LogisticRegression(random_state=42),\n",
    "    \"SVM (Linear)\": LinearSVC(C=1, loss='hinge', random_state=42, max_iter=10000),\n",
    "    \"SVM (rbf)\": SVC(kernel='rbf', random_state=42, C=0.001, gamma=5),\n",
    "    \"Random Forest\": RandomForestClassifier(n_estimators=10, max_leaf_nodes=4, n_jobs=-1)\n",
    "}\n",
    "plt.figure(figsize=(15,6))\n",
    "\n",
    "# Plot the decision boundary for each classifier\n",
    "for i, (name, classifier) in enumerate(classifiers.items()):\n",
    "    print(f\"Training {name}...\")\n",
    "    classifier.fit(X_plot, y_train) # Train on the 2D data for visualization\n",
    "\n",
    "    # Create a mesh to plot in\n",
    "    # Add a small buffer to the min/max for better visualization\n",
    "    x_min, x_max = X_plot[:, 0].min() - 0.5, X_plot[:, 0].max() + 0.5\n",
    "    y_min, y_max = X_plot[:, 1].min() - 0.5, X_plot[:, 1].max() + 0.5\n",
    "    xx, yy = np.meshgrid(np.arange(x_min, x_max, 0.05), # Increased step for faster plotting, adjust if needed\n",
    "                         np.arange(y_min, y_max, 0.05))\n",
    "\n",
    "    # Predict class for each point in the mesh\n",
    "    # np.c_ concatenates arrays along the second axis (columns)\n",
    "    Z = classifier.predict(np.c_[xx.ravel(), yy.ravel()])\n",
    "    Z = Z.reshape(xx.shape)\n",
    "\n",
    "    # Plot the decision boundary\n",
    "    plt.subplot(1, len(classifiers), i + 1)\n",
    "    plt.pcolormesh(xx, yy, Z, cmap=cmap_light, shading='auto')\n",
    "\n",
    "    # Plot the training points\n",
    "    plt.scatter(X_plot[:, 0], X_plot[:, 1], c=y_train, cmap=cmap_bold,\n",
    "                edgecolor='k', s=20, alpha=0.8) # Added alpha for better visibility\n",
    "    plt.xlim(xx.min(), xx.max())\n",
    "    plt.ylim(yy.min(), yy.max())\n",
    "    plt.title(f\"{name} Decision Boundaries\")\n",
    "    plt.xlabel(f\"Feature 1 (or PC 1)\")\n",
    "    plt.ylabel(f\"Feature 2 (or PC 2)\")\n",
    "\n",
    "plt.tight_layout()\n",
    "plt.suptitle(\"Classifier Decision Boundaries on Training Data\", y=1.02, fontsize=16) # Overall title\n",
    "plt.show()\n"
   ]
  },
  {
   "cell_type": "markdown",
   "id": "7c7a1993",
   "metadata": {},
   "source": [
    "### Testing the best model"
   ]
  },
  {
   "cell_type": "code",
   "execution_count": 69,
   "id": "aa9092d2-1beb-46a3-b554-1a8f3b74d759",
   "metadata": {},
   "outputs": [],
   "source": [
    "y_hat_test = rnd.predict(x_test.values)"
   ]
  },
  {
   "cell_type": "markdown",
   "id": "65ba4a0d",
   "metadata": {},
   "source": [
    "#### Model Evaluation "
   ]
  },
  {
   "cell_type": "code",
   "execution_count": 70,
   "id": "43ed2662",
   "metadata": {},
   "outputs": [
    {
     "data": {
      "text/plain": [
       "array([[53, 21],\n",
       "       [20, 46]], dtype=int64)"
      ]
     },
     "execution_count": 70,
     "metadata": {},
     "output_type": "execute_result"
    }
   ],
   "source": [
    "confusion_matrix(y_test,y_hat_test)"
   ]
  },
  {
   "cell_type": "code",
   "execution_count": 71,
   "id": "4bf00366",
   "metadata": {},
   "outputs": [
    {
     "data": {
      "text/plain": [
       "0.7071428571428572"
      ]
     },
     "execution_count": 71,
     "metadata": {},
     "output_type": "execute_result"
    }
   ],
   "source": [
    "accuracy_score(y_test, y_hat_test)"
   ]
  },
  {
   "cell_type": "code",
   "execution_count": 72,
   "id": "9cae05ae",
   "metadata": {
    "scrolled": true
   },
   "outputs": [
    {
     "name": "stdout",
     "output_type": "stream",
     "text": [
      "              precision    recall  f1-score   support\n",
      "\n",
      "           0       0.73      0.72      0.72        74\n",
      "           1       0.69      0.70      0.69        66\n",
      "\n",
      "    accuracy                           0.71       140\n",
      "   macro avg       0.71      0.71      0.71       140\n",
      "weighted avg       0.71      0.71      0.71       140\n",
      "\n"
     ]
    }
   ],
   "source": [
    "print(classification_report(y_test, y_hat_test))"
   ]
  },
  {
   "cell_type": "markdown",
   "id": "dfd6a287",
   "metadata": {},
   "source": [
    "### Save the model"
   ]
  },
  {
   "cell_type": "code",
   "execution_count": 79,
   "id": "b8945735",
   "metadata": {},
   "outputs": [],
   "source": [
    "import pickle"
   ]
  },
  {
   "cell_type": "code",
   "execution_count": 80,
   "id": "85f05b26",
   "metadata": {},
   "outputs": [],
   "source": [
    "with open('model', 'wb') as file:\n",
    "    pickle.dump(rnd,file)"
   ]
  },
  {
   "cell_type": "code",
   "execution_count": 81,
   "id": "c05f494f",
   "metadata": {},
   "outputs": [],
   "source": [
    "with open('scaler','wb') as file:\n",
    "    pickle.dump(absenteeism_scaler, file)"
   ]
  }
 ],
 "metadata": {
  "kernelspec": {
   "display_name": "Python [conda env:base] *",
   "language": "python",
   "name": "conda-base-py"
  },
  "language_info": {
   "codemirror_mode": {
    "name": "ipython",
    "version": 3
   },
   "file_extension": ".py",
   "mimetype": "text/x-python",
   "name": "python",
   "nbconvert_exporter": "python",
   "pygments_lexer": "ipython3",
   "version": "3.9.21"
  }
 },
 "nbformat": 4,
 "nbformat_minor": 5
}
